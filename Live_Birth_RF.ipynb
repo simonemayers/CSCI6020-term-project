{
 "cells": [
  {
   "cell_type": "code",
   "execution_count": 2,
   "id": "f71db92f-73ba-4e64-beaf-a411641a3d57",
   "metadata": {},
   "outputs": [],
   "source": [
    "import pandas as pd\n",
    "from sklearn.ensemble import RandomForestRegressor\n",
    "from sklearn.model_selection import train_test_split\n",
    "from sklearn.metrics import mean_squared_error, r2_score"
   ]
  },
  {
   "cell_type": "code",
   "execution_count": 15,
   "id": "a81d32a7-0106-4934-8199-86f9846c896e",
   "metadata": {},
   "outputs": [
    {
     "name": "stdout",
     "output_type": "stream",
     "text": [
      "Data cleaned and saved to cleaned_train_data_with_percentages.csv\n"
     ]
    },
    {
     "name": "stderr",
     "output_type": "stream",
     "text": [
      "/var/folders/0j/5zrgxs_144981j0mv_vx3jvh0000gn/T/ipykernel_8998/3043629546.py:30: FutureWarning: DataFrame.applymap has been deprecated. Use DataFrame.map instead.\n",
      "  df_cleaned = df.applymap(convert_to_int_bool_or_percentage)\n"
     ]
    }
   ],
   "source": [
    "import pandas as pd\n",
    "import numpy as np\n",
    "\n",
    "file_path = 'train_data.csv'\n",
    "df = pd.read_csv(file_path, encoding= 'latin1')\n",
    "\n",
    "def convert_to_int_bool_or_percentage(value):\n",
    "    \"\"\"\n",
    "    Convert a value to an integer, boolean, or percentage in decimal form.\n",
    "    If not possible, leave it as NaN for further handling.\n",
    "    \"\"\"\n",
    "    if pd.isnull(value):\n",
    "        return np.nan\n",
    "    try:\n",
    "        if isinstance(value, str) and value.strip().endswith('%'):\n",
    "            return float(value.strip('%')) / 100.0  # Convert to decimal\n",
    "        int_val = int(float(value))\n",
    "        return int_val\n",
    "    except (ValueError, TypeError):\n",
    "        str_val = str(value).strip().lower()\n",
    "        if str_val in ['true', 'false']:\n",
    "            return str_val == 'true'\n",
    "    return np.nan \n",
    "\n",
    "df_cleaned = df.applymap(convert_to_int_bool_or_percentage)\n",
    "\n",
    "df_cleaned.fillna(0, inplace=True)\n",
    "\n",
    "output_path = 'cleaned_train_data_with_percentages.csv'\n",
    "df_cleaned.to_csv(output_path, index=False)\n",
    "\n",
    "print(f\"Data cleaned and saved to {output_path}\")\n"
   ]
  },
  {
   "cell_type": "code",
   "execution_count": 16,
   "id": "4a6fc9da-c547-44d1-a431-b51beb675c30",
   "metadata": {},
   "outputs": [
    {
     "name": "stdout",
     "output_type": "stream",
     "text": [
      "Mean Squared Error: 0.007047693833680553\n",
      "R-squared: 0.5499381399040061\n"
     ]
    }
   ],
   "source": [
    "# Load the dataset\n",
    "file_path = 'cleaned_train_data_with_percentages.csv'  # Replace with your file path\n",
    "data = pd.read_csv(file_path, encoding='latin1')\n",
    "\n",
    "columns = [\n",
    "    'LabAccred', \n",
    "    'TotNumCycles1', 'TotNumCycles2', 'TotNumCycles3', 'TotNumCycles4', \n",
    "    'CycleFertPres1', 'CycleFertPres2', 'CycleFertPres3', 'CycleFertPres4', 'CycleFertPresAll', \n",
    "    'ND_IntentRetLB1', 'ND_IntentRetLB2', 'ND_IntentRetLB3', 'ND_IntentRetLB4'\n",
    "]\n",
    "data = data[columns]\n",
    "\n",
    "target_columns = ['ND_IntentRetLB1', 'ND_IntentRetLB2', 'ND_IntentRetLB3', 'ND_IntentRetLB4']\n",
    "\n",
    "\n",
    "data = data.fillna(data.median())\n",
    "\n",
    "# Define predictors and target variable\n",
    "X = data.drop(['ND_IntentRetLB1', 'ND_IntentRetLB2', 'ND_IntentRetLB3', 'ND_IntentRetLB4'], axis=1)\n",
    "y = data[['ND_IntentRetLB1', 'ND_IntentRetLB2', 'ND_IntentRetLB3', 'ND_IntentRetLB4']].mean(axis=1)\n",
    "\n",
    "# Split into training and testing sets\n",
    "X_train, X_test, y_train, y_test = train_test_split(X, y, test_size=0.2, random_state=42)\n",
    "\n",
    "# Train the Random Forest model\n",
    "model = RandomForestRegressor(n_estimators=100, random_state=42)\n",
    "model.fit(X_train, y_train)\n",
    "\n",
    "# Make predictions\n",
    "y_pred = model.predict(X_test)\n",
    "\n",
    "# Evaluate the model\n",
    "mse = mean_squared_error(y_test, y_pred)\n",
    "r2 = r2_score(y_test, y_pred)\n",
    "\n",
    "print(f\"Mean Squared Error: {mse}\")\n",
    "print(f\"R-squared: {r2}\")\n"
   ]
  },
  {
   "cell_type": "code",
   "execution_count": 25,
   "id": "52610472-f041-4e91-b801-42778a584caf",
   "metadata": {},
   "outputs": [
    {
     "name": "stdout",
     "output_type": "stream",
     "text": [
      "Predicted intent to return live births: 27.76 %\n"
     ]
    }
   ],
   "source": [
    "new_data = pd.DataFrame({\n",
    "    'LabAccred': [1],  \n",
    "    'TotNumCycles1': [1],  \n",
    "    'TotNumCycles2': [1],\n",
    "    'TotNumCycles3': [1],\n",
    "    'TotNumCycles4': [1],\n",
    "    'CycleFertPres1': [1],\n",
    "    'CycleFertPres2': [1],\n",
    "    'CycleFertPres3': [1],\n",
    "    'CycleFertPres4': [1],\n",
    "    'CycleFertPresAll': [1],\n",
    "}, index=[0])  # Single-row DataFrame\n",
    "\n",
    "# Predict outcomes using the trained model\n",
    "new_predictions = model.predict(new_data)\n",
    "percentage = round(new_predictions[0] * 100, 2)  # Rounded to 2 decimal places\n",
    "\n",
    "print(\"Predicted intent to return live births:\", percentage, '%')"
   ]
  },
  {
   "cell_type": "code",
   "execution_count": null,
   "id": "706d35da-318b-4d22-acc4-b3f6487d3a73",
   "metadata": {},
   "outputs": [],
   "source": []
  }
 ],
 "metadata": {
  "kernelspec": {
   "display_name": "Python 3 (ipykernel)",
   "language": "python",
   "name": "python3"
  },
  "language_info": {
   "codemirror_mode": {
    "name": "ipython",
    "version": 3
   },
   "file_extension": ".py",
   "mimetype": "text/x-python",
   "name": "python",
   "nbconvert_exporter": "python",
   "pygments_lexer": "ipython3",
   "version": "3.11.7"
  }
 },
 "nbformat": 4,
 "nbformat_minor": 5
}
